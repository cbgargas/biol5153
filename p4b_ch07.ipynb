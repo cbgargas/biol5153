{
 "cells": [
  {
   "cell_type": "code",
   "execution_count": 1,
   "metadata": {},
   "outputs": [],
   "source": [
    "# Examples:\n"
   ]
  },
  {
   "cell_type": "code",
   "execution_count": 2,
   "metadata": {},
   "outputs": [
    {
     "name": "stdout",
     "output_type": "stream",
     "text": [
      "\\t\\n\n"
     ]
    }
   ],
   "source": [
    "import re\n",
    "print(r\"\\t\\n\")"
   ]
  },
  {
   "cell_type": "code",
   "execution_count": 3,
   "metadata": {},
   "outputs": [
    {
     "name": "stdout",
     "output_type": "stream",
     "text": [
      "restriction site found!\n"
     ]
    }
   ],
   "source": [
    "dna = \"ATCGCGAATTCAC\"\n",
    "if re.search(r\"GAATTC\", dna):\n",
    "    print(\"restriction site found!\")"
   ]
  },
  {
   "cell_type": "code",
   "execution_count": 5,
   "metadata": {},
   "outputs": [],
   "source": [
    "dna = \"ATCGCGAATTCAC\"\n",
    "if re.search(r\"GG(A|T)CC\", dna):\n",
    "    print(\"restriction site found!\")"
   ]
  },
  {
   "cell_type": "code",
   "execution_count": 6,
   "metadata": {},
   "outputs": [],
   "source": [
    "dna = \"ATCGCGAATTCAC\"\n",
    "if re.search(r\"GC(A|T|G|C)GC\", dna):\n",
    "    print(\"restriction site found!\")"
   ]
  },
  {
   "cell_type": "code",
   "execution_count": 8,
   "metadata": {},
   "outputs": [],
   "source": [
    "dna = \"ATCGCGAATTCAC\"\n",
    "if re.search(r\"GC[ATGC]GC\", dna):\n",
    "    print(\"restriction site found!\")"
   ]
  },
  {
   "cell_type": "code",
   "execution_count": 9,
   "metadata": {},
   "outputs": [
    {
     "name": "stdout",
     "output_type": "stream",
     "text": [
      "GACGTAC\n"
     ]
    }
   ],
   "source": [
    "dna = \"ATGACGTACGTACGACTG\"\n",
    "# store the match object in the variable m\n",
    "m = re.search(r\"GA[ATGC]{3}AC\", dna)\n",
    "print(m.group())"
   ]
  },
  {
   "cell_type": "code",
   "execution_count": 10,
   "metadata": {},
   "outputs": [
    {
     "name": "stdout",
     "output_type": "stream",
     "text": [
      "entire match: GACGTACGTAC\n",
      "first bit: CGT\n",
      "second bit: GT\n"
     ]
    }
   ],
   "source": [
    "dna = \"ATGACGTACGTACGACTG\"\n",
    "# store the match object in the variable m\n",
    "m = re.search(r\"GA([ATGC]{3})AC([ATGC]{2})AC\", dna)\n",
    "print(\"entire match: \" + m.group())\n",
    "print(\"first bit: \" + m.group(1))\n",
    "print(\"second bit: \" + m.group(2))"
   ]
  },
  {
   "cell_type": "code",
   "execution_count": 11,
   "metadata": {},
   "outputs": [
    {
     "name": "stdout",
     "output_type": "stream",
     "text": [
      "start: 2\n",
      "end: 13\n"
     ]
    }
   ],
   "source": [
    "dna = \"ATGACGTACGTACGACTG\"\n",
    "m = re.search(r\"GA([ATGC]{3})AC([ATGC]{2})AC\", dna)\n",
    "print(\"start: \" + str(m.start()))\n",
    "print(\"end: \" + str(m.end()))"
   ]
  },
  {
   "cell_type": "code",
   "execution_count": 13,
   "metadata": {},
   "outputs": [
    {
     "name": "stdout",
     "output_type": "stream",
     "text": [
      "start: 2\n",
      "end: 13\n",
      "group one start: 4\n",
      "group one end: 7\n",
      "group two start: 9\n",
      "group two end: 11\n"
     ]
    }
   ],
   "source": [
    "dna = \"ATGACGTACGTACGACTG\"\n",
    "m = re.search(r\"GA([ATGC]{3})AC([ATGC]{2})AC\", dna)\n",
    "print(\"start: \" + str(m.start()))\n",
    "print(\"end: \" + str(m.end()))\n",
    "print(\"group one start: \" + str(m.start(1)))\n",
    "print(\"group one end: \" + str(m.end(1)))\n",
    "print(\"group two start: \" + str(m.start(2)))\n",
    "print(\"group two end: \" + str(m.end(2)))"
   ]
  },
  {
   "cell_type": "code",
   "execution_count": 14,
   "metadata": {},
   "outputs": [
    {
     "name": "stdout",
     "output_type": "stream",
     "text": [
      "['ATTATAT', 'AAATTATA']\n"
     ]
    }
   ],
   "source": [
    "dna = \"ACTGCATTATATCGTACGAAATTATACGCGCG\"\n",
    "runs = re.findall(r\"[AT]{4,100}\", dna)\n",
    "print(runs)"
   ]
  },
  {
   "cell_type": "code",
   "execution_count": 15,
   "metadata": {},
   "outputs": [
    {
     "name": "stdout",
     "output_type": "stream",
     "text": [
      "AT rich region from 5 to 12\n",
      "AT rich region from 18 to 26\n"
     ]
    }
   ],
   "source": [
    "dna = \"ACTGCATTATATCGTACGAAATTATACGCGCG\"\n",
    "runs = re.finditer(r\"[AT]{3,100}\", dna)\n",
    "for match in runs:\n",
    "    run_start = match.start()\n",
    "    run_end = match.end()\n",
    "    print(\"AT rich region from \" + str(run_start) + \" to \" + str(run_end))"
   ]
  },
  {
   "cell_type": "code",
   "execution_count": 41,
   "metadata": {},
   "outputs": [
    {
     "name": "stdout",
     "output_type": "stream",
     "text": [
      "\tcontains 5: xkn59438\n",
      "\tstarts w/ x or y: xkn59438\n",
      "\tTHREE #S IN A ROWxkn59438\n",
      "\tContains d|e: yhdck2\n",
      "\tstarts w/ x or y: yhdck2\n",
      "\tContains d|e: eihd39d9\n",
      "\tcontains d|e or e|d: eihd39d9\n",
      "\tContains d|e: chdsye847\n",
      "\tcontains d + e, in that order: chdsye847\n",
      "\tcontains d|e or e|d: chdsye847\n",
      "\tTHREE #S IN A ROWchdsye847\n",
      "\tcontains 5: hedle3455\n",
      "\tContains d|e: hedle3455\n",
      "\tcontains d + e, in that order: hedle3455\n",
      "\tcontains d or e, one letter inbetween: hedle3455\n",
      "\tcontains d|e or e|d: hedle3455\n",
      "\tTHREE #S IN A ROWhedle3455\n",
      "\tcontains 5: xjhd53e\n",
      "\tContains d|e: xjhd53e\n",
      "\tcontains d + e, in that order: xjhd53e\n",
      "\tcontains d|e or e|d: xjhd53e\n",
      "\tstarts w/ x or y: xjhd53e\n",
      "\tstarts with x|y, ends with e: xjhd53e\n",
      "\tcontains 5: 45da\n",
      "\tContains d|e: 45da\n",
      "\tD followed by a|r|p: 45da\n",
      "\tContains d|e: de37dp\n",
      "\tcontains d + e, in that order: de37dp\n",
      "\tcontains d|e or e|d: de37dp\n",
      "\tD followed by a|r|p: de37dp\n"
     ]
    }
   ],
   "source": [
    "#EXERCISES\n",
    "\n",
    "#ACCESSION NAMES\n",
    "accs = [\"xkn59438\", \"yhdck2\", \"eihd39d9\", \"chdsye847\", \"hedle3455\",\n",
    "\"xjhd53e\", \"45da\", \"de37dp\"]\n",
    "\n",
    "for acc in accs:\n",
    "#• contain the number 5\n",
    "    if re.search(r\"5\", acc):\n",
    "        print(\"\\t\" +'contains 5: '+ acc)\n",
    "#• contain the letter d or e\n",
    "    if re.search(r\"[de]\", acc):\n",
    "        print(\"\\t\" +'Contains d|e: '+ acc)\n",
    "#• contain the letters d and e in that order\n",
    "    if re.search(r\"d.*e\", acc):\n",
    "        print(\"\\t\" + 'contains d + e, in that order: '+acc)\n",
    "#• contain the letters d and e in that order with a single letter between them\n",
    "    if re.search(r\"(d.e)\", acc):\n",
    "        print(\"\\t\" +'contains d or e, one letter inbetween: '+ acc)\n",
    "#• contain both the letters d and e in any order\n",
    "    if re.search(r\"d.*e\", acc) or re.search(r\"e.*d\", acc):\n",
    "        print(\"\\t\" + 'contains d|e or e|d: '+acc)\n",
    "#• start with x or y\n",
    "    if re.search(r\"^(x|y)\", acc):\n",
    "        print(\"\\t\" + 'starts w/ x or y: '+acc)\n",
    "#• start with x or y and end with e\n",
    "    if re.search(r\"^(x|y).*e$\", acc):\n",
    "        print(\"\\t\" +'starts with x|y, ends with e: '+ acc)\n",
    "#• contain three or more numbers in a row\n",
    "    if re.search(r\"\\d{3,}\", acc):\n",
    "        print(\"\\t\" +'THREE #S IN A ROW'+ acc)\n",
    "#• end with d followed by either a, r or p\n",
    "    if re.search(r\"d[arp]$\", acc):\n",
    "        print(\"\\t\" +'D followed by a|r|p: '+ acc)\n",
    "\n",
    "\n"
   ]
  },
  {
   "cell_type": "code",
   "execution_count": 57,
   "metadata": {},
   "outputs": [
    {
     "name": "stdout",
     "output_type": "stream",
     "text": [
      "AbcI cuts at:\n",
      "[0, 488, 1143, 1577, 1628, 2012]\n",
      "one fragment size is 488\n",
      "one fragment size is 655\n",
      "one fragment size is 434\n",
      "one fragment size is 51\n",
      "one fragment size is 384\n"
     ]
    }
   ],
   "source": [
    "#DOUBLE DIGEST\n",
    "import re\n",
    "\n",
    "dna = open(\"p4b-exercises-and-examples/regular_expressions/exercises/dna.txt\").read().rstrip(\"\\n\")\n",
    "print(\"AbcI cuts at:\")\n",
    "all_cuts = [0]\n",
    "\n",
    "# add cut positions for AbcI\n",
    "for match in re.finditer(r\"A[ATGC]TAAT\", dna):\n",
    "    all_cuts.append(match.start() + 3)\n",
    "# add cut positions for AbcII\n",
    "for match in re.finditer(r\"GC[AG][AT]TG\", dna):\n",
    "    all_cuts.append(match.start() + 4)\n",
    "# add the final position\n",
    "all_cuts.append(len(dna))\n",
    "sorted_cuts = sorted(all_cuts)\n",
    "print(sorted_cuts)\n",
    "for i in range(1,len(sorted_cuts)):\n",
    "    this_cut_position = sorted_cuts[i]\n",
    "    previous_cut_position = sorted_cuts[i-1]\n",
    "    fragment_size = this_cut_position - previous_cut_position\n",
    "    print(\"one fragment size is \" + str(fragment_size))"
   ]
  },
  {
   "cell_type": "code",
   "execution_count": null,
   "metadata": {},
   "outputs": [],
   "source": []
  }
 ],
 "metadata": {
  "kernelspec": {
   "display_name": "Python 3",
   "language": "python",
   "name": "python3"
  },
  "language_info": {
   "codemirror_mode": {
    "name": "ipython",
    "version": 3
   },
   "file_extension": ".py",
   "mimetype": "text/x-python",
   "name": "python",
   "nbconvert_exporter": "python",
   "pygments_lexer": "ipython3",
   "version": "3.7.3"
  }
 },
 "nbformat": 4,
 "nbformat_minor": 2
}
