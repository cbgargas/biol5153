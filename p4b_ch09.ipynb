{
 "cells": [
  {
   "cell_type": "code",
   "execution_count": 1,
   "metadata": {},
   "outputs": [
    {
     "ename": "FileNotFoundError",
     "evalue": "[Errno 2] No such file or directory: 'old.txt' -> 'new.txt'",
     "output_type": "error",
     "traceback": [
      "\u001b[0;31m---------------------------------------------------------------------------\u001b[0m",
      "\u001b[0;31mFileNotFoundError\u001b[0m                         Traceback (most recent call last)",
      "\u001b[0;32m<ipython-input-1-7a2560bd1722>\u001b[0m in \u001b[0;36m<module>\u001b[0;34m\u001b[0m\n\u001b[1;32m      2\u001b[0m \u001b[0;34m\u001b[0m\u001b[0m\n\u001b[1;32m      3\u001b[0m \u001b[0;32mimport\u001b[0m \u001b[0mos\u001b[0m\u001b[0;34m\u001b[0m\u001b[0;34m\u001b[0m\u001b[0m\n\u001b[0;32m----> 4\u001b[0;31m \u001b[0mos\u001b[0m\u001b[0;34m.\u001b[0m\u001b[0mrename\u001b[0m\u001b[0;34m(\u001b[0m\u001b[0;34m\"old.txt\"\u001b[0m\u001b[0;34m,\u001b[0m \u001b[0;34m\"new.txt\"\u001b[0m\u001b[0;34m)\u001b[0m\u001b[0;34m\u001b[0m\u001b[0;34m\u001b[0m\u001b[0m\n\u001b[0m",
      "\u001b[0;31mFileNotFoundError\u001b[0m: [Errno 2] No such file or directory: 'old.txt' -> 'new.txt'"
     ]
    }
   ],
   "source": [
    "# Examples \n",
    "\n",
    "import os\n",
    "os.rename(\"old.txt\", \"new.txt\")\n",
    "\n",
    "os.rename(\"/home/martin/biology/old.txt\", \"/home/martin/python/old.txt\")\n",
    "\n",
    "os.rename(\"/home/martin/old_folder\", \"/home/martin/new_folder\")\n",
    "\n",
    "os.mkdir(\"/home/martin/python\")\n",
    "\n",
    "os.mkdirs(\"/a/long/path/with/lots/of/folders\")\n",
    "\n",
    "shutil.copy(\"/home/martin/original.txt\", \"/home/martin/copy.txt\")\n",
    "\n",
    "shutil.copytree(\"/home/martin/original_folder\",\"/home/martin/copy_folder\")\n",
    "\n",
    "if os.path.exists(\"/home/martin/email.txt\"):\n",
    "    print(\"You have mail!\")\n",
    "    \n",
    "os.remove(\"/home/martin/unwanted_file.txt\")\n",
    "\n",
    "os.rmdir(\"/home/martin/emtpy\")\n",
    "\n",
    "shutil.rmtree(\"home/martin/full\")\n",
    "\n",
    "for file_name in os.listdir(\".\"):\n",
    "    print(\"one file name is \" + file_name)\n",
    "    \n",
    "for file_name in os.listdir(\"/home/martin\"):\n",
    "    print(\"one file name is \" + file_name)\n",
    "    \n",
    "import subprocess\n",
    "subprocess.call(\"/bin/date\")\n",
    "\n",
    "subprocess.call(\"/bin/date +%B\", shell=True)\n",
    "\n",
    "current_month = subprocess.check_output(\"/bin/date +%B\", shell=True)\n",
    "\n",
    "accession = input(\"Enter the accession name\")\n",
    "# do something with the accession variable"
   ]
  },
  {
   "cell_type": "code",
   "execution_count": 8,
   "metadata": {},
   "outputs": [
    {
     "name": "stdout",
     "output_type": "stream",
     "text": [
      "reading sequences from xaj.dna\n"
     ]
    },
    {
     "ename": "FileNotFoundError",
     "evalue": "[Errno 2] No such file or directory: 'xaj.dna'",
     "output_type": "error",
     "traceback": [
      "\u001b[0;31m---------------------------------------------------------------------------\u001b[0m",
      "\u001b[0;31mFileNotFoundError\u001b[0m                         Traceback (most recent call last)",
      "\u001b[0;32m<ipython-input-8-5f077ed35857>\u001b[0m in \u001b[0;36m<module>\u001b[0;34m\u001b[0m\n\u001b[1;32m     17\u001b[0m     \u001b[0;32mif\u001b[0m \u001b[0mfile\u001b[0m\u001b[0;34m.\u001b[0m\u001b[0mendswith\u001b[0m\u001b[0;34m(\u001b[0m\u001b[0;34m\".dna\"\u001b[0m\u001b[0;34m)\u001b[0m\u001b[0;34m:\u001b[0m\u001b[0;34m\u001b[0m\u001b[0;34m\u001b[0m\u001b[0m\n\u001b[1;32m     18\u001b[0m         \u001b[0mprint\u001b[0m\u001b[0;34m(\u001b[0m\u001b[0;34m\"reading sequences from \"\u001b[0m\u001b[0;34m+\u001b[0m\u001b[0mfile\u001b[0m\u001b[0;34m)\u001b[0m\u001b[0;34m\u001b[0m\u001b[0;34m\u001b[0m\u001b[0m\n\u001b[0;32m---> 19\u001b[0;31m         \u001b[0mdna_file\u001b[0m\u001b[0;34m=\u001b[0m\u001b[0mopen\u001b[0m\u001b[0;34m(\u001b[0m\u001b[0mfile\u001b[0m\u001b[0;34m)\u001b[0m\u001b[0;34m\u001b[0m\u001b[0;34m\u001b[0m\u001b[0m\n\u001b[0m\u001b[1;32m     20\u001b[0m \u001b[0;34m\u001b[0m\u001b[0m\n\u001b[1;32m     21\u001b[0m         \u001b[0;31m# for each line, calculate sequence length\u001b[0m\u001b[0;34m\u001b[0m\u001b[0;34m\u001b[0m\u001b[0;34m\u001b[0m\u001b[0m\n",
      "\u001b[0;31mFileNotFoundError\u001b[0m: [Errno 2] No such file or directory: 'xaj.dna'"
     ]
    }
   ],
   "source": [
    "# Exercises\n",
    "\n",
    "# Binning DNA sequences\n",
    "import os\n",
    "\n",
    "# new folder for each bin\n",
    "for bin_low in range(100,1000,100):\n",
    "    bin_up=bin_low+99\n",
    "    bin_folder_name=str(bin_low)+\"_\"+str(bin_up)\n",
    "    os.mkdir(bin_folder_name)\n",
    "\n",
    "# create a variable to hold the sequence number\n",
    "seq_number=1\n",
    "\n",
    "# process all files that end in .dna\n",
    "for file in os.listdir(\"/home/cbg/2019s/biol5153/p4b-exercises-and-examples/working_with_the_filesystem/exercises/\"):\n",
    "    if file.endswith(\".dna\"):\n",
    "        print(\"reading sequences from \"+file)\n",
    "        dna_file=open(file)\n",
    "        \n",
    "        # for each line, calculate sequence length\n",
    "        for line in dna_file:\n",
    "            dna=line.rstrip(\"\\n\")\n",
    "            length=len(dna)\n",
    "            print(\"sequence length is \"+str(length))\n",
    "        \n",
    "            # figure out which bin the sequence belongs in\n",
    "            for bin_low in range(100,1000,100):\n",
    "                bin_up=bin_low+99\n",
    "                if length>=bin_low and length<bin_up:\n",
    "\n",
    "                    # once we know the correct bin, write the sequence\n",
    "                    print(\"bin is \"+str(bin_low)+\" to \"+str(bin_up))\n",
    "                    bin_folder_name=str(bin_low)+\"_\"+str(bin_up)\n",
    "                    output_path=bin_folder_name+'/'+str(seq_number)+'.dna'\n",
    "                    output=open(output_path, \"w\")\n",
    "                    output.write(dna)\n",
    "                    output.close()\n",
    "\n",
    "                    # increment the sequence number\n",
    "                    seq_number=seq_number+1"
   ]
  },
  {
   "cell_type": "code",
   "execution_count": 11,
   "metadata": {},
   "outputs": [
    {
     "ename": "ValueError",
     "evalue": "invalid literal for int() with base 10: '-f'",
     "output_type": "error",
     "traceback": [
      "\u001b[0;31m---------------------------------------------------------------------------\u001b[0m",
      "\u001b[0;31mValueError\u001b[0m                                Traceback (most recent call last)",
      "\u001b[0;32m<ipython-input-11-8309cd8a29d9>\u001b[0m in \u001b[0;36m<module>\u001b[0;34m\u001b[0m\n\u001b[1;32m      5\u001b[0m \u001b[0;34m\u001b[0m\u001b[0m\n\u001b[1;32m      6\u001b[0m \u001b[0;31m# convert command line arguments to variables\u001b[0m\u001b[0;34m\u001b[0m\u001b[0;34m\u001b[0m\u001b[0;34m\u001b[0m\u001b[0m\n\u001b[0;32m----> 7\u001b[0;31m \u001b[0mkmer_size\u001b[0m\u001b[0;34m=\u001b[0m\u001b[0mint\u001b[0m\u001b[0;34m(\u001b[0m\u001b[0msys\u001b[0m\u001b[0;34m.\u001b[0m\u001b[0margv\u001b[0m\u001b[0;34m[\u001b[0m\u001b[0;36m1\u001b[0m\u001b[0;34m]\u001b[0m\u001b[0;34m)\u001b[0m\u001b[0;34m\u001b[0m\u001b[0;34m\u001b[0m\u001b[0m\n\u001b[0m\u001b[1;32m      8\u001b[0m \u001b[0mcount_cutoff\u001b[0m\u001b[0;34m=\u001b[0m\u001b[0mint\u001b[0m\u001b[0;34m(\u001b[0m\u001b[0msys\u001b[0m\u001b[0;34m.\u001b[0m\u001b[0margv\u001b[0m\u001b[0;34m[\u001b[0m\u001b[0;36m2\u001b[0m\u001b[0;34m]\u001b[0m\u001b[0;34m)\u001b[0m\u001b[0;34m\u001b[0m\u001b[0;34m\u001b[0m\u001b[0m\n\u001b[1;32m      9\u001b[0m \u001b[0;34m\u001b[0m\u001b[0m\n",
      "\u001b[0;31mValueError\u001b[0m: invalid literal for int() with base 10: '-f'"
     ]
    }
   ],
   "source": [
    "# Kmer counting\n",
    "\n",
    "import os\n",
    "import sys\n",
    "\n",
    "# convert command line arguments to variables\n",
    "kmer_size=int(sys.argv[1])\n",
    "count_cutoff=int(sys.argv[2])\n",
    "\n",
    "# define the function to split dna\n",
    "def split_dna(dna, kmer_size):\n",
    "    kmers=[]\n",
    "    for start in range(0,len(dna)-(kmer_size-1),1):\n",
    "        kmer=dna[start:start+kmer_size]\n",
    "        kmers.append(kmer)\n",
    "    return kmers\n",
    "\n",
    "# create an empty dictionary to hold the counts\n",
    "kmer_counts={}\n",
    "\n",
    "# process each file with the right name\n",
    "for file_name in os.listdir(\"/home/cbg/2019s/biol5153/p4b-exercises-and-examples/working_with_the_filesystem/exercises/\"):\n",
    "    if file_name.endswith(\".dna\"):\n",
    "        dna_file= open(file_name)\n",
    "\n",
    "        # process each DNA sequence in a file\n",
    "        for line in dna_file:\n",
    "            dna=line.rstrip(\"\\n\")\n",
    "\n",
    "            # increase the count for each k-mer that we find\n",
    "            for kmer in split_dna(dna, kmer_size):\n",
    "                current_count=kmer_counts.get(kmer, 0)\n",
    "                new_count=current_count+1\n",
    "                kmer_counts[kmer]=new_count\n",
    "\n",
    "# print k-mers whose counts are above the cutoff\n",
    "for kmer, count in kmer_counts.items():\n",
    "    if count>count_cutoff:\n",
    "        print(kmer+\" : \"+str(count))"
   ]
  },
  {
   "cell_type": "code",
   "execution_count": null,
   "metadata": {},
   "outputs": [],
   "source": []
  }
 ],
 "metadata": {
  "kernelspec": {
   "display_name": "Python 3",
   "language": "python",
   "name": "python3"
  },
  "language_info": {
   "codemirror_mode": {
    "name": "ipython",
    "version": 3
   },
   "file_extension": ".py",
   "mimetype": "text/x-python",
   "name": "python",
   "nbconvert_exporter": "python",
   "pygments_lexer": "ipython3",
   "version": "3.7.2"
  }
 },
 "nbformat": 4,
 "nbformat_minor": 2
}
