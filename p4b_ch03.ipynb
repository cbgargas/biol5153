{
 "cells": [
  {
   "cell_type": "code",
   "execution_count": 15,
   "metadata": {},
   "outputs": [],
   "source": [
    "# EXAMPLES\n",
    "\n",
    "my_file = open(\"dna.txt\")"
   ]
  },
  {
   "cell_type": "code",
   "execution_count": 2,
   "metadata": {},
   "outputs": [
    {
     "name": "stdout",
     "output_type": "stream",
     "text": [
      "abcdefg\n",
      "43\n"
     ]
    }
   ],
   "source": [
    "my_string = 'abcdefg'\n",
    "print(my_string)\n",
    "my_number = 42\n",
    "print(my_number + 1)"
   ]
  },
  {
   "cell_type": "code",
   "execution_count": 3,
   "metadata": {},
   "outputs": [
    {
     "name": "stdout",
     "output_type": "stream",
     "text": [
      "ATGXGACGTACGTAGCCCCCGGAATTTTATAGC\n",
      "\n"
     ]
    }
   ],
   "source": [
    "my_file = open(\"dna.txt\")\n",
    "file_contents = my_file.read()\n",
    "print(file_contents)"
   ]
  },
  {
   "cell_type": "code",
   "execution_count": 4,
   "metadata": {},
   "outputs": [],
   "source": [
    "apple = \"dna.txt\"\n",
    "banana = open(apple)\n",
    "grape = banana.read()"
   ]
  },
  {
   "cell_type": "code",
   "execution_count": 5,
   "metadata": {},
   "outputs": [
    {
     "ename": "AttributeError",
     "evalue": "'str' object has no attribute 'read'",
     "output_type": "error",
     "traceback": [
      "\u001b[0;31m---------------------------------------------------------------------------\u001b[0m",
      "\u001b[0;31mAttributeError\u001b[0m                            Traceback (most recent call last)",
      "\u001b[0;32m<ipython-input-5-713de871889f>\u001b[0m in \u001b[0;36m<module>\u001b[0;34m\u001b[0m\n\u001b[1;32m      1\u001b[0m \u001b[0mmy_file_name\u001b[0m \u001b[0;34m=\u001b[0m \u001b[0;34m\"dna.txt\"\u001b[0m\u001b[0;34m\u001b[0m\u001b[0;34m\u001b[0m\u001b[0m\n\u001b[0;32m----> 2\u001b[0;31m \u001b[0mmy_contents\u001b[0m \u001b[0;34m=\u001b[0m \u001b[0mmy_file_name\u001b[0m\u001b[0;34m.\u001b[0m\u001b[0mread\u001b[0m\u001b[0;34m(\u001b[0m\u001b[0;34m)\u001b[0m\u001b[0;34m\u001b[0m\u001b[0;34m\u001b[0m\u001b[0m\n\u001b[0m",
      "\u001b[0;31mAttributeError\u001b[0m: 'str' object has no attribute 'read'"
     ]
    }
   ],
   "source": [
    "my_file_name = \"dna.txt\"\n",
    "my_contents = my_file_name.read()"
   ]
  },
  {
   "cell_type": "code",
   "execution_count": 6,
   "metadata": {},
   "outputs": [
    {
     "name": "stdout",
     "output_type": "stream",
     "text": [
      "<_io.TextIOWrapper name='dna.txt' mode='r' encoding='UTF-8'>\n"
     ]
    }
   ],
   "source": [
    "my_file_name = \"dna.txt\"\n",
    "my_file = open(my_file_name)\n",
    "print(my_file)"
   ]
  },
  {
   "cell_type": "code",
   "execution_count": 7,
   "metadata": {},
   "outputs": [
    {
     "name": "stdout",
     "output_type": "stream",
     "text": [
      "sequence is ATGXGACGTACGTAGCCCCCGGAATTTTATAGC\n",
      " and length is 34\n"
     ]
    }
   ],
   "source": [
    "# open the file\n",
    "my_file = open(\"dna.txt\")\n",
    "# read the contents\n",
    "my_dna = my_file.read()\n",
    "# calculate the length\n",
    "dna_length = len(my_dna)\n",
    "# print the output\n",
    "print(\"sequence is \" + my_dna +\n",
    "\" and length is \" + str(dna_length))"
   ]
  },
  {
   "cell_type": "code",
   "execution_count": 8,
   "metadata": {},
   "outputs": [
    {
     "name": "stdout",
     "output_type": "stream",
     "text": [
      "sequence is ATGXGACGTACGTAGCCCCCGGAATTTTATAGC and length is 33\n"
     ]
    }
   ],
   "source": [
    "my_file = open(\"dna.txt\")\n",
    "my_file_contents = my_file.read()\n",
    "# remove the newline from the end of the file contents\n",
    "my_dna = my_file_contents.rstrip(\"\\n\")\n",
    "dna_length = len(my_dna)\n",
    "print(\"sequence is \" + my_dna + \" and length is \" + str(dna_length))"
   ]
  },
  {
   "cell_type": "code",
   "execution_count": 9,
   "metadata": {},
   "outputs": [],
   "source": [
    "my_file_contents = my_file.read()\n",
    "my_dna = my_file_contents.rstrip(\"\\n\")"
   ]
  },
  {
   "cell_type": "code",
   "execution_count": 10,
   "metadata": {},
   "outputs": [],
   "source": [
    "my_dna = my_file.read().rstrip(\"\\n\")"
   ]
  },
  {
   "cell_type": "code",
   "execution_count": 11,
   "metadata": {
    "collapsed": true
   },
   "outputs": [
    {
     "ename": "FileNotFoundError",
     "evalue": "[Errno 2] No such file or directory: 'nonexistent.txt'",
     "output_type": "error",
     "traceback": [
      "\u001b[0;31m---------------------------------------------------------------------------\u001b[0m",
      "\u001b[0;31mFileNotFoundError\u001b[0m                         Traceback (most recent call last)",
      "\u001b[0;32m<ipython-input-11-1d2282536022>\u001b[0m in \u001b[0;36m<module>\u001b[0;34m\u001b[0m\n\u001b[0;32m----> 1\u001b[0;31m \u001b[0mmy_file\u001b[0m \u001b[0;34m=\u001b[0m \u001b[0mopen\u001b[0m\u001b[0;34m(\u001b[0m\u001b[0;34m\"nonexistent.txt\"\u001b[0m\u001b[0;34m)\u001b[0m\u001b[0;34m\u001b[0m\u001b[0;34m\u001b[0m\u001b[0m\n\u001b[0m",
      "\u001b[0;31mFileNotFoundError\u001b[0m: [Errno 2] No such file or directory: 'nonexistent.txt'"
     ]
    }
   ],
   "source": [
    "my_file = open(\"nonexistent.txt\")"
   ]
  },
  {
   "cell_type": "code",
   "execution_count": 15,
   "metadata": {},
   "outputs": [
    {
     "data": {
      "text/plain": [
       "11"
      ]
     },
     "execution_count": 15,
     "metadata": {},
     "output_type": "execute_result"
    }
   ],
   "source": [
    "my_file = open(\"out.txt\", \"w\")\n",
    "my_file.write(\"Hello world\")"
   ]
  },
  {
   "cell_type": "code",
   "execution_count": 16,
   "metadata": {},
   "outputs": [],
   "source": [
    "my_file = open(\"out.txt\", \"w\")\n",
    "my_file.write(\"Hello world\")\n",
    "# remember to close the file\n",
    "my_file.close()"
   ]
  },
  {
   "cell_type": "code",
   "execution_count": 1,
   "metadata": {},
   "outputs": [],
   "source": [
    "#EXERCISES\n"
   ]
  },
  {
   "cell_type": "code",
   "execution_count": 15,
   "metadata": {},
   "outputs": [
    {
     "name": "stdout",
     "output_type": "stream",
     "text": [
      "ATCGATCGATCGATCGACTGACTAGTCATAGCTATGCATGTAGCTACTCGATCGATCGATCGtcgatcgatcgatcgatcgatcatgctATCATCGATCGATATCGATGCATCGACTACTAT\n",
      "\n"
     ]
    },
    {
     "data": {
      "text/plain": [
       "27"
      ]
     },
     "execution_count": 15,
     "metadata": {},
     "output_type": "execute_result"
    }
   ],
   "source": [
    "#Splitting genomic DNA\n",
    "gendna_file=open(\"genomic_dna.txt\", \"r\")\n",
    "dna=gendna_file.read()\n",
    "\n",
    "#designating thwe intron and exons\n",
    "exon1=dna[0:62]\n",
    "intron=dna[63:90]\n",
    "exon2=dna[90:]\n",
    "\n",
    "#checking that it worked\n",
    "print(exon1 + intron.lower() + exon2)\n",
    "\n",
    "#creating output files\n",
    "coding_file=open(\"coding_dna.txt\", \"w\")\n",
    "noncoding_file=open(\"noncoding_dna.txt\", \"w\")\n",
    "\n",
    "#Write the coding and noncoding parts to their respective output files\n",
    "coding_file.write(exon1+exon2)\n",
    "noncoding_file.write(intron)"
   ]
  },
  {
   "cell_type": "code",
   "execution_count": 12,
   "metadata": {
    "scrolled": true
   },
   "outputs": [
    {
     "name": "stdout",
     "output_type": "stream",
     "text": [
      "> ABC123\n",
      "ATCGTACGATCGATCGATCGCTAGACGTATCG\n",
      "\n",
      "> DEF456\n",
      "ACTGATCGACGATCGATCGATCACGACT\n",
      "\n",
      "> HIJ789\n",
      "ACTGACACTGTACTGTACATGTG\n"
     ]
    },
    {
     "data": {
      "text/plain": [
       "32"
      ]
     },
     "execution_count": 12,
     "metadata": {},
     "output_type": "execute_result"
    }
   ],
   "source": [
    "# Writing a fasta file\n",
    "\n",
    "# creating the variables we will need\n",
    "header1=\"> ABC123\"\n",
    "header2=\"> DEF456\"\n",
    "header3=\"> HIJ789\"\n",
    "\n",
    "seq1=\"ATCGTACGATCGATCGATCGCTAGACGTATCG\"\n",
    "seq2=\"actgatcgacgatcgatcgatcacgact\"\n",
    "seq3=\"ACTGAC-ACTGT--ACTGTA----CATGTG\"\n",
    "\n",
    "#printing seq1 with header and linebreak\n",
    "print(header1+'\\n'+seq1+'\\n')\n",
    "\n",
    "# printing seq2 with header2 and linebreak, converting seq2 to uppercase\n",
    "print(header2+'\\n'+seq2.upper()+'\\n')\n",
    "\n",
    "#printing seq3 and header3, removes hyphens (-) with replace function ('')\n",
    "print(header3+'\\n'+seq3.replace('-', ''))\n",
    "\n",
    "#Making the output file \n",
    "output=open(\"sequences.fa\", \"w\")\n",
    "\n",
    "#Writing seqeunces to fasta file\n",
    "output.write(header1+'\\n'+seq1+'\\n')\n",
    "output.write(header2+'\\n'+seq2.upper()+'\\n')\n",
    "output.write(header3+'\\n'+seq3.replace('-', ''))"
   ]
  },
  {
   "cell_type": "code",
   "execution_count": 14,
   "metadata": {},
   "outputs": [
    {
     "name": "stdout",
     "output_type": "stream",
     "text": [
      "> ABC123\n",
      "ATCGTACGATCGATCGATCGCTAGACGTATCG\n",
      "\n",
      "> DEF456\n",
      "ACTGATCGACGATCGATCGATCACGACT\n",
      "\n",
      "> HIJ789\n",
      "ACTGACACTGTACTGTACATGTG\n"
     ]
    },
    {
     "data": {
      "text/plain": [
       "32"
      ]
     },
     "execution_count": 14,
     "metadata": {},
     "output_type": "execute_result"
    }
   ],
   "source": [
    "# Writing mulitple fasta files\n",
    "\n",
    "# creating the variables we will need\n",
    "header1=\"> ABC123\"\n",
    "header2=\"> DEF456\"\n",
    "header3=\"> HIJ789\"\n",
    "\n",
    "seq1=\"ATCGTACGATCGATCGATCGCTAGACGTATCG\"\n",
    "seq2=\"actgatcgacgatcgatcgatcacgact\"\n",
    "seq3=\"ACTGAC-ACTGT--ACTGTA----CATGTG\"\n",
    "\n",
    "#printing seq1 with header and linebreak\n",
    "print(header1+'\\n'+seq1+'\\n')\n",
    "\n",
    "# printing seq2 with header2 and linebreak, converting seq2 to uppercase\n",
    "print(header2+'\\n'+seq2.upper()+'\\n')\n",
    "\n",
    "#printing seq3 and header3, removes hyphens (-) with replace function ('')\n",
    "print(header3+'\\n'+seq3.replace('-', ''))\n",
    "\n",
    "#Making the output file \n",
    "output1=open(\"ABC123.fa\", \"w\")\n",
    "output2=open(\"DEF456.fa\", \"w\")\n",
    "output3=open(\"HIJ789.fa\", \"w\")\n",
    "\n",
    "#Writing seqeunces to fasta file\n",
    "output1.write(header1+'\\n'+seq1)\n",
    "output2.write(header2+'\\n'+seq2.upper())\n",
    "output3.write(header3+'\\n'+seq3.replace('-', ''))\n"
   ]
  },
  {
   "cell_type": "code",
   "execution_count": null,
   "metadata": {},
   "outputs": [],
   "source": []
  }
 ],
 "metadata": {
  "kernelspec": {
   "display_name": "Python 3",
   "language": "python",
   "name": "python3"
  },
  "language_info": {
   "codemirror_mode": {
    "name": "ipython",
    "version": 3
   },
   "file_extension": ".py",
   "mimetype": "text/x-python",
   "name": "python",
   "nbconvert_exporter": "python",
   "pygments_lexer": "ipython3",
   "version": "3.7.2"
  }
 },
 "nbformat": 4,
 "nbformat_minor": 2
}
